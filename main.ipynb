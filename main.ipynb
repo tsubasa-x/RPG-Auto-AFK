{
 "cells": [
  {
   "cell_type": "code",
   "execution_count": 2,
   "metadata": {},
   "outputs": [],
   "source": [
    "import time\n",
    "from selenium import webdriver\n",
    "from selenium.webdriver.support.ui import Select"
   ]
  },
  {
   "cell_type": "code",
   "execution_count": 3,
   "metadata": {},
   "outputs": [],
   "source": [
    "driver = webdriver.Chrome(r'./chromedriver.exe')\n",
    "\n",
    "driver.get('https://badgameshow.com')"
   ]
  },
  {
   "cell_type": "code",
   "execution_count": 5,
   "metadata": {},
   "outputs": [],
   "source": [
    "login_box = driver.find_element_by_xpath('//*[@id=\"left\"]/ul[1]/li/input[2]')\n",
    "\n",
    "login_box.click()"
   ]
  },
  {
   "cell_type": "code",
   "execution_count": 7,
   "metadata": {},
   "outputs": [],
   "source": [
    "account = '<ACCOUNT>'\n",
    "password = '<PASSWORD>'"
   ]
  },
  {
   "cell_type": "code",
   "execution_count": null,
   "metadata": {},
   "outputs": [],
   "source": [
    "acc_box = driver.find_element_by_xpath('//*[@id=\"right\"]/div[2]/table/tbody/tr[1]/td/div/input')\n",
    "pass_box = driver.find_element_by_xpath('//*[@id=\"right\"]/div[2]/table/tbody/tr[2]/td/div/input')\n",
    "\n",
    "acc_box.send_keys(account)\n",
    "pass_box.send_keys(password)"
   ]
  },
  {
   "cell_type": "code",
   "execution_count": 10,
   "metadata": {},
   "outputs": [],
   "source": [
    "submit_box = driver.find_element_by_xpath('//*[@id=\"right\"]/div[2]/div/input[1]')\n",
    "submit_box.click()\n",
    "\n",
    "submit_confirm = driver.find_element_by_xpath('//*[@id=\"right\"]/div[2]/div/input[4]')\n",
    "submit_confirm.click()"
   ]
  },
  {
   "cell_type": "code",
   "execution_count": 12,
   "metadata": {},
   "outputs": [],
   "source": [
    "time.sleep(3)"
   ]
  },
  {
   "cell_type": "code",
   "execution_count": 20,
   "metadata": {},
   "outputs": [],
   "source": [
    "def check_health():\n",
    "    health_bar = driver.find_element_by_xpath('//*[@id=\"mhp\"]')\n",
    "    health = health_bar.text.split('/')\n",
    "    \n",
    "    if int(health[0]) < 300:\n",
    "        town_facilities = Select(driver.find_element_by_xpath('//*[@id=\"townf\"]/select'))\n",
    "        town_facilities.select_by_value('inn')\n",
    "        exec_box = driver.find_element_by_xpath('//*[@id=\"townbutton\"]')\n",
    "        exec_box.click()\n",
    "        time.sleep(1)\n",
    "        \n",
    "        driver.switch_to.frame(frame_reference=driver.find_element_by_xpath(\"//iframe[@name='actionframe']\"))\n",
    "        back_town = driver.find_element_by_xpath('/html/body/table/tbody/tr[3]/td/input')\n",
    "        back_town.click()\n",
    "        driver.switch_to.parent_frame()\n",
    "        time.sleep(3)"
   ]
  },
  {
   "cell_type": "code",
   "execution_count": 14,
   "metadata": {},
   "outputs": [],
   "source": [
    "def check_balance():\n",
    "    balance_box = driver.find_element_by_xpath('//*[@id=\"mgold\"]/font[1]')\n",
    "    balance = balance_box.text\n",
    "    if balance[-1] == 'd':\n",
    "        return\n",
    "    balance = balance.split('萬')\n",
    "    \n",
    "    if int(balance[0]) >= 30:\n",
    "        town_facilities = Select(driver.find_element_by_xpath('//*[@id=\"townf\"]/select'))\n",
    "        town_facilities.select_by_value('bank')\n",
    "        exec_box = driver.find_element_by_xpath('//*[@id=\"townbutton\"]')\n",
    "        exec_box.click()\n",
    "        time.sleep(1)\n",
    "        \n",
    "        driver.switch_to.frame(frame_reference=driver.find_element_by_xpath(\"//iframe[@name='actionframe']\"))\n",
    "        back_town = driver.find_element_by_xpath('/html/body/table/tbody/tr[3]/td/form[2]/input[6]')\n",
    "        back_town.click()\n",
    "        driver.switch_to.parent_frame()\n",
    "        time.sleep(1)\n",
    "    \n",
    "        driver.switch_to.frame(frame_reference=driver.find_element_by_xpath(\"//iframe[@name='actionframe']\"))\n",
    "        back_town = driver.find_element_by_xpath('/html/body/table/tbody/tr[3]/td/input')\n",
    "        back_town.click()\n",
    "        driver.switch_to.parent_frame()\n",
    "        time.sleep(5)"
   ]
  },
  {
   "cell_type": "code",
   "execution_count": 21,
   "metadata": {},
   "outputs": [],
   "source": [
    "def auto_attack(val):\n",
    "    box = driver.find_element_by_xpath('//*[@id=\"autoattack\"]')\n",
    "    if box.is_selected() is not True:\n",
    "        location = Select(driver.find_element_by_xpath('//*[@id=\"table1\"]/tbody/tr/td[1]/select'))\n",
    "        location.select_by_value('%d'%val)\n",
    "        time.sleep(1)\n",
    "        box.click()\n",
    "        time.sleep(2)"
   ]
  },
  {
   "cell_type": "code",
   "execution_count": null,
   "metadata": {},
   "outputs": [],
   "source": [
    "battle_loc_id = 3"
   ]
  },
  {
   "cell_type": "code",
   "execution_count": null,
   "metadata": {
    "scrolled": true
   },
   "outputs": [],
   "source": [
    "while True:\n",
    "    progress = driver.find_element_by_xpath('//*[@id=\"tok\"]')\n",
    "    if progress.text[0] == '剩' or progress.text[0] == '行':\n",
    "        time.sleep(3)\n",
    "        check_balance()\n",
    "        check_health()\n",
    "        auto_attack(battle_loc_id)"
   ]
  },
  {
   "cell_type": "code",
   "execution_count": null,
   "metadata": {},
   "outputs": [],
   "source": []
  }
 ],
 "metadata": {
  "kernelspec": {
   "display_name": "Python 3",
   "language": "python",
   "name": "python3"
  },
  "language_info": {
   "codemirror_mode": {
    "name": "ipython",
    "version": 3
   },
   "file_extension": ".py",
   "mimetype": "text/x-python",
   "name": "python",
   "nbconvert_exporter": "python",
   "pygments_lexer": "ipython3",
   "version": "3.7.6"
  }
 },
 "nbformat": 4,
 "nbformat_minor": 4
}
